{
 "cells": [
  {
   "cell_type": "code",
   "execution_count": null,
   "metadata": {},
   "outputs": [],
   "source": [
    "import serial\n",
    "from datetime import datetime\n",
    "import matplotlib.pyplot as plt\n",
    "import numpy as np\n",
    "import pandas as pd"
   ]
  },
  {
   "cell_type": "code",
   "execution_count": null,
   "metadata": {},
   "outputs": [],
   "source": [
    "T = serial.Serial('COM5',9600)"
   ]
  },
  {
   "cell_type": "code",
   "execution_count": null,
   "metadata": {},
   "outputs": [],
   "source": [
    "temperature = []\n",
    "dt_string = []\n",
    "\n",
    "while True:\n",
    "    sArduino = T.readline()\n",
    "    s = sArduino.decode('UTF-8')\n",
    "    temperature.append(float(s[0:5]))\n",
    "    now = datetime.now()\n",
    "    dt_string.append(now.strftime(\"%H:%M:%S\"))\n",
    "    print(temperature)\n",
    "   "
   ]
  },
  {
   "cell_type": "code",
   "execution_count": null,
   "metadata": {},
   "outputs": [],
   "source": [
    "T.close()\n",
    "temperature = np.array(temperature)\n",
    "dt = np.array(dt_string)"
   ]
  },
  {
   "cell_type": "code",
   "execution_count": null,
   "metadata": {},
   "outputs": [],
   "source": [
    "data = pd.DataFrame(temperature, index=dt)\n",
    "data.columns = ['Temperatura']"
   ]
  },
  {
   "cell_type": "code",
   "execution_count": null,
   "metadata": {},
   "outputs": [],
   "source": [
    "data.plot()\n",
    "data.to_csv('datos.csv', index=True)"
   ]
  }
 ],
 "metadata": {
  "kernelspec": {
   "display_name": "Python 3",
   "language": "python",
   "name": "python3"
  },
  "language_info": {
   "codemirror_mode": {
    "name": "ipython",
    "version": 3
   },
   "file_extension": ".py",
   "mimetype": "text/x-python",
   "name": "python",
   "nbconvert_exporter": "python",
   "pygments_lexer": "ipython3",
   "version": "3.10.6"
  },
  "orig_nbformat": 4,
  "vscode": {
   "interpreter": {
    "hash": "7950dc683a89ef4ff83e87509acc6db093e519ad397fcb879371c803cc8a7f89"
   }
  }
 },
 "nbformat": 4,
 "nbformat_minor": 2
}
